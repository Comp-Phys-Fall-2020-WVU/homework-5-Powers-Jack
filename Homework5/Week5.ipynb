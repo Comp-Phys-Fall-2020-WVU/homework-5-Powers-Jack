{
  "nbformat": 4,
  "nbformat_minor": 0,
  "metadata": {
    "colab": {
      "name": "Week5.ipynb",
      "provenance": [],
      "collapsed_sections": []
    },
    "kernelspec": {
      "name": "python3",
      "display_name": "Python 3"
    }
  },
  "cells": [
    {
      "cell_type": "markdown",
      "metadata": {
        "id": "EaceIJ0zX3Ln"
      },
      "source": [
        "# Week Five: Integration and differentiation\n",
        "\n",
        "To be graded, your notebook must be runnable start to finish. If you can't make an in-notebook test pass, comment it out for to attempt to get partial credit. You should replace the `...` markers with your code. Do not change the names of the pre-defined ALL_CAPS variables and functions. (If you start from scratch, make sure you match the requested function names and requested ALL_CAPS variables). Other that that, you are free to define or make anything you wish. Remember that functions will often be tested with different numbers than the ones you are given."
      ]
    },
    {
      "cell_type": "code",
      "metadata": {
        "id": "1FqU73mSX3Lp"
      },
      "source": [
        "# EID is your 6+2 UC Electronic ID\n",
        "EID = '800256578'\n",
        "NAME = 'Jack Powers'"
      ],
      "execution_count": 1,
      "outputs": []
    },
    {
      "cell_type": "code",
      "metadata": {
        "id": "YH_qrdUnX3Lt"
      },
      "source": [
        "%matplotlib inline\n",
        "import numpy as np\n",
        "import matplotlib.pyplot as plt"
      ],
      "execution_count": 2,
      "outputs": []
    },
    {
      "cell_type": "markdown",
      "metadata": {
        "id": "xGr4YFtAX3Lw"
      },
      "source": [
        "# Problem 1: 2D Trapezoidal rule\n",
        "\n",
        "You can extend the trapezoidal rule to 2D. I'll give you a few hints:\n",
        "\n",
        "The weight matrix is:\n",
        "$$\n",
        "W_{ij} = \\begin{matrix}\n",
        "1 & 2 & 2 & \\cdots & 2 & 2 & 1 \\\\\n",
        "2 & 4 & 4 & \\cdots & 4 & 4 & 2 \\\\\n",
        "2 & 4 & 4 & \\cdots & 4 & 4 & 2 \\\\\n",
        "\\vdots & \\vdots & \\vdots & \\ddots & \\vdots & \\vdots & \\vdots \\\\\n",
        "2 & 4 & 4 & \\cdots & 4 & 4 & 2 \\\\\n",
        "2 & 4 & 4 & \\cdots & 4 & 4 & 2 \\\\\n",
        "1 & 2 & 2 & \\cdots & 2 & 2 & 1\n",
        "\\end{matrix}\n",
        "$$\n",
        "\n",
        "If you use the trick I used in the slides instead of explicitly creating this matrix, you would split the sum into 4 parts. However, it's really quite easy to make the matrix above\n",
        "\n",
        "The \"bin\" width $h$ is joined by the 2nd dimension bin width of $k$, and then the trapezoidal rule integral value is \n",
        "\n",
        "$$\n",
        "I_\\mathrm{tr} = \\frac{1}{4} h k \\sum_i \\sum_j W_{ij} f(x_{i}, y_{j})\n",
        "$$"
      ]
    },
    {
      "cell_type": "markdown",
      "metadata": {
        "id": "2fx8JgnwX3Lx"
      },
      "source": [
        "Write a function that takes a 2-parameter function 'f' and integrates it with the given parameters (further explanations are built into the docstring of the function). I'm writing a Numpy-style docstring.\n",
        "\n",
        "See also: <http://mathfaculty.fullerton.edu/mathews/n2003/SimpsonsRule2DMod.html>"
      ]
    },
    {
      "cell_type": "code",
      "metadata": {
        "id": "DicleNp4X3Ly"
      },
      "source": [
        "def trap_2d(f, xrange, yrange, xN, yN):\n",
        "    '''Integrate a 2D function with the trapezoidal rule.\n",
        "    \n",
        "    This takes a 2D function and integrates it over a 2D grid.\n",
        "    This uses the Trapezoidal rule in 2D.\n",
        "    \n",
        "    Parameters\n",
        "    ----------\n",
        "    f : callable\n",
        "        The function to integrate. The function should take an x and y value (possibly arrays).\n",
        "    xrange : (float, float)\n",
        "        The min and max values for x, as an array\n",
        "    yrange : (float, float)\n",
        "        The min and max values for y, as an array\n",
        "    xN : int\n",
        "        The number of evaluations along x\n",
        "    yN : int\n",
        "        The number of evaluations along x\n",
        "\n",
        "    Returns\n",
        "    -------\n",
        "    float\n",
        "        The total integral\n",
        "    \n",
        "    '''\n",
        "    # If these are *not* arrays, convert them into arrays. Otherwise, leave them alone.\n",
        "    # (If we used np.array, we'd needlessly make a copy if it aready was an array)\n",
        "    xrange = np.asarray(xrange)\n",
        "    yrange = np.asarray(yrange)\n",
        "    \n",
        "    # There are N-1 \"bins\"\n",
        "    h = (xrange[1] - xrange[0])/(xN-1)\n",
        "    k = (yrange[1] - yrange[0])/(yN-1)\n",
        "    \n",
        "    xr = np.arange(xrange[0], xrange[1] + h, h)\n",
        "    yr = np.arange(yrange[0], yrange[1] + k, k)\n",
        "\n",
        "    wij = np.zeros((xN, yN))\n",
        "# builds the matrix\n",
        "    for i in range(0, xN):\n",
        "      for j in range(0, yN):\n",
        "        if (i,j) in [(0,0), (0, yN-1), (xN-1, 0), (xN-1, yN-1)]:\n",
        "          wij[i,j] = 1\n",
        "        elif (i in [0, xN-1]) or (j in [0, yN-1]):\n",
        "          wij[i,j] = 2\n",
        "        else:\n",
        "          wij[i,j] = 4\n",
        "# sum of matrix\n",
        "    sum_of_matrix = np.sum(wij[i,j] * f(xr[i], yr[j]) for i in range(0, xN) for j in range(0, yN))\n",
        "\n",
        "# evaluates the integral\n",
        "    I = (0.25) * h * k * sum_of_matrix\n",
        "\n",
        "    return I\n"
      ],
      "execution_count": 3,
      "outputs": []
    },
    {
      "cell_type": "markdown",
      "metadata": {
        "id": "4ibV_P_iX3L0"
      },
      "source": [
        "Feel free to add more tests, I'm adding the simplest one I can think of:"
      ]
    },
    {
      "cell_type": "code",
      "metadata": {
        "id": "qX8hkf7GX3L1"
      },
      "source": [
        "def f(x,y):\n",
        "    return 1"
      ],
      "execution_count": 4,
      "outputs": []
    },
    {
      "cell_type": "code",
      "metadata": {
        "id": "Y__7qAhBX3L4",
        "outputId": "038f040f-0d45-46ce-abe8-2674a941caac",
        "colab": {
          "base_uri": "https://localhost:8080/",
          "height": 54
        }
      },
      "source": [
        "area = trap_2d(f, [0, 10], [0, 10], 10, 10)\n",
        "assert np.isclose(area, 100)"
      ],
      "execution_count": 5,
      "outputs": [
        {
          "output_type": "stream",
          "text": [
            "/usr/local/lib/python3.6/dist-packages/ipykernel_launcher.py:49: DeprecationWarning: Calling np.sum(generator) is deprecated, and in the future will give a different result. Use np.sum(np.fromiter(generator)) or the python sum builtin instead.\n"
          ],
          "name": "stderr"
        }
      ]
    },
    {
      "cell_type": "markdown",
      "metadata": {
        "id": "VASo5c1vX3L6"
      },
      "source": [
        "# Problem 2: MC integration\n",
        "\n",
        "Write a function that performs MC integration of an unknown function of N dimensions. You can use `f(*array)` to call the function with the correct number of arguments (it expands to `f(array[0], array[1], ..., array[N])`). Return **two** values; the estimated integral and the estimated error on the integral."
      ]
    },
    {
      "cell_type": "code",
      "metadata": {
        "id": "tyWjyUTsX3L7"
      },
      "source": [
        "def mc_integrate(f, N, samples, ranges):\n",
        "    '''\n",
        "    Integrate an ND function with a set of sampled MC points.\n",
        "    \n",
        "    Parameters\n",
        "    ----------\n",
        "    f : callable\n",
        "        The function to integrate. The function should take N\n",
        "        values (possibly equal length arrays).\n",
        "    N : int\n",
        "        The min and max values for x, as an array\n",
        "    samples : int\n",
        "        The number of samples to integrate over\n",
        "    ranges : array[2, N]\n",
        "        An array with the min and max for each dimension.\n",
        "\n",
        "    Returns\n",
        "    -------\n",
        "    float\n",
        "        The total integral\n",
        "    float\n",
        "        The estimated error = relative error * the total integral.\n",
        "    '''\n",
        "    \n",
        "    ranges = np.asarray(ranges) # Just making sure ranges is an array\n",
        "    \n",
        "    # Hint: You can turn a 1D array, such as arr = array([a, b]) into a 2D array\n",
        "    # with arr[:,np.newaxis] or arr[:,None] or arr.reshape(2,1) or arr.reshape(-1,1)\n",
        "    \n",
        "    # Our definition of ranges matches what you find in Scipy, and is natural to type,\n",
        "    # but is a but less natural to use, for example:\n",
        "    widths = ranges[:,1] + ranges[:,0]\n",
        "    \n",
        "# generates values to integrate with\n",
        "\n",
        "    points_of_integration = []\n",
        "    for i in range(0, N):\n",
        "      points_of_integration.append(np.random.uniform(ranges[i,0], ranges[i,1], samples))\n",
        "    points_of_integration = np.array(points_of_integration)\n",
        "\n",
        "# computes the integration\n",
        "    I = np.average(f(*points_of_integration))\n",
        "\n",
        "# calculates error\n",
        "    error = I * (1/np.sqrt(N))\n",
        "    \n",
        "    return I, error"
      ],
      "execution_count": 6,
      "outputs": []
    },
    {
      "cell_type": "code",
      "metadata": {
        "id": "9B86rs6CX3L-"
      },
      "source": [
        "def f(x,y):\n",
        "    return x + y"
      ],
      "execution_count": 7,
      "outputs": []
    },
    {
      "cell_type": "code",
      "metadata": {
        "id": "FdN8g76gX3MA"
      },
      "source": [
        "integral, error = mc_integrate(f, 2, 10_000, [[0,1],[0,1]])"
      ],
      "execution_count": 8,
      "outputs": []
    },
    {
      "cell_type": "code",
      "metadata": {
        "id": "gTEySSERX3MD",
        "outputId": "4bc321e3-7672-44a8-c6a2-90293227fba4",
        "colab": {
          "base_uri": "https://localhost:8080/",
          "height": 34
        }
      },
      "source": [
        "print(integral, error)"
      ],
      "execution_count": 9,
      "outputs": [
        {
          "output_type": "stream",
          "text": [
            "1.0010225950210698 0.7078298650603535\n"
          ],
          "name": "stdout"
        }
      ]
    },
    {
      "cell_type": "markdown",
      "metadata": {
        "id": "JYf-zZuvX3MF"
      },
      "source": [
        "#### For comparison, we could use NQuad from Scipy:"
      ]
    },
    {
      "cell_type": "code",
      "metadata": {
        "id": "hXoLhKthX3MF"
      },
      "source": [
        "from scipy import integrate"
      ],
      "execution_count": 10,
      "outputs": []
    },
    {
      "cell_type": "code",
      "metadata": {
        "id": "3DZKD_czX3MI",
        "outputId": "457fb2ca-bbc6-4132-dfff-af29414cc09e",
        "colab": {
          "base_uri": "https://localhost:8080/",
          "height": 34
        }
      },
      "source": [
        "integrate.nquad(f, [[0,1],[0,1]])"
      ],
      "execution_count": 11,
      "outputs": [
        {
          "output_type": "execute_result",
          "data": {
            "text/plain": [
              "(1.0, 1.662923778137264e-14)"
            ]
          },
          "metadata": {
            "tags": []
          },
          "execution_count": 11
        }
      ]
    },
    {
      "cell_type": "markdown",
      "metadata": {
        "id": "b2DyxmRwX3MK"
      },
      "source": [
        "# Problem 3: Second derivatives"
      ]
    },
    {
      "cell_type": "markdown",
      "metadata": {
        "id": "yffR-5UiX3ML"
      },
      "source": [
        "Write a function that calculates:\n",
        "\n",
        "$$\n",
        "\\frac{d^2 f(t)}{dt^2} \\Biggr\\rvert_\\mathrm{cd}\n",
        "=\n",
        "\\frac{\n",
        "\\left[\n",
        "f(t + h) - f(t)\n",
        "\\right] - \\left[\n",
        "f(t) - f(t - h)\n",
        "\\right]\n",
        "}{h^2}\n",
        "$$\n",
        "\n",
        "(The notes in class had a typo, fixed here.) Write a nice docstring as well."
      ]
    },
    {
      "cell_type": "code",
      "metadata": {
        "id": "VdBU8yoZX3ML"
      },
      "source": [
        "def d2fdt2(f, t, h):\n",
        "\n",
        "# computes the second derivative of a function\n",
        "    second_deriv = ((f(t+h) - f(t)) - (f(t) - f(t-h))) / (h**2)\n",
        "    return second_deriv"
      ],
      "execution_count": 12,
      "outputs": []
    },
    {
      "cell_type": "markdown",
      "metadata": {
        "id": "qVOiL3pFX3MO"
      },
      "source": [
        "Test your `d2fdt2` function on a function that you know the derivative for."
      ]
    },
    {
      "cell_type": "code",
      "metadata": {
        "id": "3eezb5LhX3MP",
        "outputId": "3fc2bc92-5ffa-4e19-ff29-34f69b30750d",
        "colab": {
          "base_uri": "https://localhost:8080/",
          "height": 50
        }
      },
      "source": [
        "print(-(np.cos(1)))\n",
        "print(d2fdt2(np.cos, 1, 1e-5))"
      ],
      "execution_count": 13,
      "outputs": [
        {
          "output_type": "stream",
          "text": [
            "-0.5403023058681398\n",
            "-0.5403044678331524\n"
          ],
          "name": "stdout"
        }
      ]
    }
  ]
}